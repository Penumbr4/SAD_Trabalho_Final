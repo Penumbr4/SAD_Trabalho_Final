{
 "cells": [
  {
   "cell_type": "markdown",
   "metadata": {},
   "source": [
    "Estudo Dados Airbnb Rotterdam"
   ]
  },
  {
   "cell_type": "code",
   "execution_count": 189,
   "metadata": {},
   "outputs": [],
   "source": [
    "#Import das bibliotecas\n",
    "import pandas as pd\n",
    "import numpy as np\n",
    "import seaborn as sns\n",
    "import matplotlib.pyplot as plt\n",
    "from sklearn import datasets\n",
    "\n",
    "#carregamento do Data_frame para o programa\n",
    "calendar_df=pd.read_csv('Ficheiros_airbnb_Rotterdam\\calendar.csv')\n",
    "listings_df=pd.read_csv('Ficheiros_airbnb_Rotterdam\\listings.csv')"
   ]
  },
  {
   "cell_type": "code",
   "execution_count": 190,
   "metadata": {},
   "outputs": [],
   "source": [
    "#calendar_df.columns\n",
    "##'listing_id', 'date', 'available', 'price', 'adjusted_price', 'minimum_nights', 'maximum_nights'\n",
    "\n",
    "#preparar os dados e tirar os caracteres especiais\n",
    "calendar_df['price'] = calendar_df['price'].replace('[\\$,]', '', regex=True).astype(float)\n",
    "calendar_df['adjusted_price'] = calendar_df['adjusted_price'].replace('[\\$,]', '', regex=True).astype(float)"
   ]
  },
  {
   "cell_type": "markdown",
   "metadata": {},
   "source": [
    "Estatistica Descritiva (Calendar)"
   ]
  },
  {
   "cell_type": "markdown",
   "metadata": {},
   "source": [
    "Analise ao preço"
   ]
  },
  {
   "cell_type": "code",
   "execution_count": 191,
   "metadata": {},
   "outputs": [
    {
     "name": "stdout",
     "output_type": "stream",
     "text": [
      "Ficheiro tem 379600 Linhas e 7 Colunas \n",
      "\n",
      "O preço médio: 161.50$\n",
      "O preço mais baixo: 20$\n",
      "O preço mais alto: 10500$\n",
      "O preço mais aplicado: 150$\n",
      "O coeficiente de assimetria da idade é: 7.21\n",
      "O coeficiente de curtose da idade é: 271.93\n"
     ]
    }
   ],
   "source": [
    "row, columm = calendar_df.shape #mostra o número de linhas e o número de colunas\n",
    "print(f\"Ficheiro tem {row} Linhas e {columm} Colunas \\n\")\n",
    "\n",
    "#Preço medio da estadia\n",
    "price_mean = calendar_df['price'].mean()\n",
    "print(f\"O preço médio: {price_mean:.2f}$\")\n",
    "\n",
    "#Preço medio da estadia\n",
    "price_min = calendar_df['price'].min()\n",
    "print(f\"O preço mais baixo: {price_min:.0f}$\")\n",
    "\n",
    "#Preço medio da estadia\n",
    "price_max = calendar_df['price'].max()\n",
    "print(f\"O preço mais alto: {price_max:.0f}$\")\n",
    "\n",
    "#Preço medio da estadia\n",
    "price_mode = calendar_df['price'].mode().values[0]\n",
    "print(f\"O preço mais aplicado: {price_mode:.0f}$\")\n",
    "\n",
    "#O coeficiente de assimetria da idade é: 7.212379118954113\n",
    "# É positivo logo a cauda direita é mais longa comparada com a esquerda\n",
    "price_assimetria = calendar_df['price'].skew()\n",
    "print(f\"O coeficiente de assimetria da idade é: {price_assimetria:.2f}\")\n",
    "\n",
    "#Cortose - distribuição dos preços é mais concentrada perto da media\n",
    "#Pouca diversidade de preços, com certos preços muito baixos\n",
    "price_curtose = calendar_df['price'].kurtosis()\n",
    "print(f\"O coeficiente de curtose da idade é: {price_curtose:.2f}\")"
   ]
  },
  {
   "cell_type": "markdown",
   "metadata": {},
   "source": [
    "Estatistica Descritiva (Listings)"
   ]
  },
  {
   "cell_type": "markdown",
   "metadata": {},
   "source": [
    "Valor medio por Bairro"
   ]
  },
  {
   "cell_type": "code",
   "execution_count": 203,
   "metadata": {},
   "outputs": [
    {
     "name": "stdout",
     "output_type": "stream",
     "text": [
      "O preço médio em Oud Mathenesse é 54.00$\n",
      "O preço médio em Bloemhof é 64.88$\n",
      "O preço médio em Carnisse é 74.82$\n",
      "O preço médio em Ommoord é 76.75$\n",
      "O preço médio em Prinsenland é 77.75$\n",
      "O preço médio em Europoort é 80.00$\n",
      "O preço médio em De Esch é 85.33$\n",
      "O preço médio em Zuiderpark é 88.75$\n",
      "O preço médio em Pernis é 90.00$\n",
      "O preço médio em Oud Crooswijk é 93.33$\n",
      "O preço médio em Tarwewijk é 94.59$\n",
      "O preço médio em Schieveen é 96.00$\n",
      "O preço médio em Oosterflank é 100.00$\n",
      "O preço médio em Tussendijken é 102.85$\n",
      "O preço médio em Het Lage Land é 104.00$\n",
      "O preço médio em Bospolder é 104.25$\n",
      "O preço médio em Lombardijen é 104.33$\n",
      "O preço médio em Noord Kethel é 107.50$\n",
      "O preço médio em 's-Gravenland é 110.00$\n",
      "O preço médio em Vreewijk é 116.62$\n",
      "O preço médio em Noordereiland é 117.76$\n",
      "O preço médio em Kralingse Bos é 118.00$\n",
      "O preço médio em Strand en Duin é 119.19$\n",
      "O preço médio em Cs Kwartier é 119.91$\n",
      "O preço médio em Hillesluis é 120.38$\n",
      "O preço médio em Schiemond é 121.20$\n",
      "O preço médio em Provenierswijk é 121.28$\n",
      "O preço médio em Zevenkamp é 123.00$\n",
      "O preço médio em Zuidwijk é 124.00$\n",
      "O preço médio em Rubroek é 125.11$\n",
      "O preço médio em Liskwartier é 126.13$\n",
      "O preço médio em Bergpolder é 127.05$\n",
      "O preço médio em Oude Noorden é 128.75$\n",
      "O preço médio em Nieuwe Westen é 129.51$\n",
      "O preço médio em Dorp é 130.00$\n",
      "O preço médio em Hillegersberg Noord é 130.60$\n",
      "O preço médio em Kleinpolder é 130.67$\n",
      "O preço médio em Blijdorp é 134.28$\n",
      "O preço médio em Oude Westen é 135.29$\n",
      "O preço médio em Oud Charlois é 137.73$\n",
      "O preço médio em Zestienhoven é 141.50$\n",
      "O preço médio em Groot IJsselmonde é 142.50$\n",
      "O preço médio em Overschie é 143.11$\n",
      "O preço médio em Delfshaven é 144.65$\n",
      "O preço médio em Eemhaven é 147.00$\n",
      "O preço médio em Dijkzigt é 148.57$\n",
      "O preço médio em Pendrecht é 154.33$\n",
      "O preço médio em Hillegersberg Zuid é 155.72$\n",
      "O preço médio em Struisenburg é 161.60$\n",
      "O preço médio em Agniesebuurt é 167.95$\n",
      "O preço médio em Nieuw Crooswijk é 170.67$\n",
      "O preço médio em Molenlaankwartier é 173.62$\n",
      "O preço médio em Kralingen West é 174.17$\n",
      "O preço médio em Schiebroek é 175.62$\n",
      "O preço médio em Katendrecht é 175.70$\n",
      "O preço médio em Oud IJsselmonde é 175.75$\n",
      "O preço médio em Terbregge é 179.00$\n",
      "O preço médio em Stadsdriehoek é 180.73$\n",
      "O preço médio em Middelland é 181.69$\n",
      "O preço médio em Kralingen Oost é 197.10$\n",
      "O preço médio em Rozenburg é 199.00$\n",
      "O preço médio em Cool é 201.51$\n",
      "O preço médio em Spangen é 218.60$\n",
      "O preço médio em Afrikaanderwijk é 221.00$\n",
      "O preço médio em Kop van Zuid - Entrepot é 223.63$\n",
      "O preço médio em Nesselande é 241.43$\n",
      "O preço médio em Nieuwe Werk é 250.20$\n",
      "O preço médio em Kop van Zuid é 300.70$\n",
      "O preço médio em Hoogvliet Zuid é 577.50$\n",
      "O preço médio em Hoogvliet Noord é 1295.00$\n"
     ]
    }
   ],
   "source": [
    "#Criar um DF agroupado por bairros com a media, é ordenado em ordem crescente (mais pequeno mais alto)\n",
    "bairros_df = listings_df.groupby('neighbourhood')['price'].mean()\n",
    "bairros_df=bairros_df.sort_values(ascending=True)\n",
    "\n",
    "for bairro, preço in bairros_df.items():\n",
    "    print(f\"O preço médio em {bairro} é {preço:.2f}$\")\n"
   ]
  }
 ],
 "metadata": {
  "kernelspec": {
   "display_name": "Python 3",
   "language": "python",
   "name": "python3"
  },
  "language_info": {
   "codemirror_mode": {
    "name": "ipython",
    "version": 3
   },
   "file_extension": ".py",
   "mimetype": "text/x-python",
   "name": "python",
   "nbconvert_exporter": "python",
   "pygments_lexer": "ipython3",
   "version": "3.9.10"
  }
 },
 "nbformat": 4,
 "nbformat_minor": 2
}
