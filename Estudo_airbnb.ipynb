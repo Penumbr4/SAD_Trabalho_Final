{
 "cells": [
  {
   "cell_type": "markdown",
   "metadata": {},
   "source": [
    "Estudo Dados Airbnb Rotterdam"
   ]
  },
  {
   "cell_type": "code",
   "execution_count": 1,
   "metadata": {},
   "outputs": [],
   "source": [
    "#Import das bibliotecas\n",
    "import pandas as pd\n",
    "import numpy as np\n",
    "import seaborn as sns\n",
    "import matplotlib.pyplot as plt\n",
    "from sklearn import datasets\n",
    "\n",
    "#carregamento do Data_frame para o programa\n",
    "calendar_df=pd.read_csv('Ficheiros_airbnb_Rotterdam\\calendar.csv')\n",
    "listings_df=pd.read_csv('Ficheiros_airbnb_Rotterdam\\listings.csv')"
   ]
  },
  {
   "cell_type": "code",
   "execution_count": 2,
   "metadata": {},
   "outputs": [],
   "source": [
    "#calendar_df.columns\n",
    "##'listing_id', 'date', 'available', 'price', 'adjusted_price', 'minimum_nights', 'maximum_nights'\n",
    "\n",
    "#preparar os dados e tirar os caracteres especiais\n",
    "calendar_df['price'] = calendar_df['price'].replace('[\\$,]', '', regex=True).astype(float)\n",
    "calendar_df['adjusted_price'] = calendar_df['adjusted_price'].replace('[\\$,]', '', regex=True).astype(float)"
   ]
  },
  {
   "cell_type": "markdown",
   "metadata": {},
   "source": [
    "Separar avaliação do 'name' do DataFram Listings"
   ]
  },
  {
   "cell_type": "code",
   "execution_count": 3,
   "metadata": {},
   "outputs": [
    {
     "data": {
      "text/plain": [
       "0       4.95\n",
       "1       4.78\n",
       "2       4.83\n",
       "3       4.72\n",
       "4       4.92\n",
       "        ... \n",
       "1035     New\n",
       "1036     New\n",
       "1037     New\n",
       "1038     New\n",
       "1039     New\n",
       "Name: avaliacao, Length: 1040, dtype: object"
      ]
     },
     "execution_count": 3,
     "metadata": {},
     "output_type": "execute_result"
    }
   ],
   "source": [
    "row = listings_df['name']\n",
    "\n",
    "for index, palavra in enumerate(row):\n",
    "    for indice, letra in enumerate(palavra):\n",
    "        if letra =='★':\n",
    "                if palavra[indice+1] != 'N' :\n",
    "                    avaliacao = palavra[indice + 1: indice + 5]\n",
    "                    listings_df.loc[index, 'avaliacao'] = avaliacao\n",
    "                    break;\n",
    "                else:\n",
    "                    avaliacao = palavra[indice + 1: indice + 4]\n",
    "                    listings_df.loc[index, 'avaliacao'] = avaliacao\n",
    "                    break;\n",
    "        \n",
    "listings_df['avaliacao']"
   ]
  },
  {
   "cell_type": "markdown",
   "metadata": {},
   "source": [
    "Estatistica Descritiva (Calendar)"
   ]
  },
  {
   "cell_type": "markdown",
   "metadata": {},
   "source": [
    "Analise ao preço - Qual é a média de preços dos aluguéis no Airbnb na cidade?\n"
   ]
  },
  {
   "cell_type": "code",
   "execution_count": 4,
   "metadata": {},
   "outputs": [
    {
     "name": "stdout",
     "output_type": "stream",
     "text": [
      "Ficheiro tem 379600 Linhas e 7 Colunas \n",
      "\n",
      "O preço médio: 161.50$\n",
      "O preço mais baixo: 20$\n",
      "O preço mais alto: 10500$\n",
      "O preço mais aplicado: 150$\n",
      "O coeficiente de assimetria da idade é: 7.21\n",
      "O coeficiente de curtose da idade é: 271.93\n"
     ]
    }
   ],
   "source": [
    "row, columm = calendar_df.shape #mostra o número de linhas e o número de colunas\n",
    "print(f\"Ficheiro tem {row} Linhas e {columm} Colunas \\n\")\n",
    "\n",
    "#Preço medio da estadia\n",
    "price_mean = calendar_df['price'].mean()\n",
    "print(f\"O preço médio: {price_mean:.2f}$\")\n",
    "\n",
    "#Preço medio da estadia\n",
    "price_min = calendar_df['price'].min()\n",
    "print(f\"O preço mais baixo: {price_min:.0f}$\")\n",
    "\n",
    "#Preço medio da estadia\n",
    "price_max = calendar_df['price'].max()\n",
    "print(f\"O preço mais alto: {price_max:.0f}$\")\n",
    "\n",
    "#Preço medio da estadia\n",
    "price_mode = calendar_df['price'].mode().values[0]\n",
    "print(f\"O preço mais aplicado: {price_mode:.0f}$\")\n",
    "\n",
    "#O coeficiente de assimetria da idade é: 7.212379118954113\n",
    "# É positivo logo a cauda direita é mais longa comparada com a esquerda\n",
    "price_assimetria = calendar_df['price'].skew()\n",
    "print(f\"O coeficiente de assimetria da idade é: {price_assimetria:.2f}\")\n",
    "\n",
    "#Cortose - distribuição dos preços é mais concentrada perto da media\n",
    "#Pouca diversidade de preços, com certos preços muito baixos\n",
    "price_curtose = calendar_df['price'].kurtosis()\n",
    "print(f\"O coeficiente de curtose da idade é: {price_curtose:.2f}\")"
   ]
  },
  {
   "cell_type": "markdown",
   "metadata": {},
   "source": [
    "Estatistica Descritiva (Listings)"
   ]
  },
  {
   "cell_type": "markdown",
   "metadata": {},
   "source": [
    "Valor medio Bairro - Quais são os bairros mais caros e mais baratos para alugar no Airbnb?\n"
   ]
  },
  {
   "cell_type": "code",
   "execution_count": 5,
   "metadata": {},
   "outputs": [
    {
     "name": "stdout",
     "output_type": "stream",
     "text": [
      "top 5 dos preços mais baixos:\n",
      "\tBotlek-Europoort-Maasvlakte : 80.00$\n",
      "\tPernis : 90.00$\n",
      "\tCharlois : 106.65$\n",
      "\tHoek van Holland : 119.82$\n",
      "\tPrins Alexander : 123.78$\n",
      "\n",
      "top 5 dos preços mais altos:\n",
      "\tHoogvliet : 816.67$\n",
      "\tRozenburg : 199.00$\n",
      "\tFeijenoord : 176.01$\n",
      "\tRotterdam Centrum : 174.80$\n",
      "\tHillegersberg-Schiebroek : 162.13$\n",
      "\n",
      "\n",
      "\n",
      "O preço médio em Botlek-Europoort-Maasvlakte é de: 80.00$\n",
      "O preço médio em Pernis é de: 90.00$\n",
      "O preço médio em Charlois é de: 106.65$\n",
      "O preço médio em Hoek van Holland é de: 119.82$\n",
      "O preço médio em Prins Alexander é de: 123.78$\n",
      "O preço médio em Noord é de: 132.52$\n",
      "O preço médio em Overschie é de: 132.65$\n",
      "O preço médio em IJsselmonde é de: 144.56$\n",
      "O preço médio em Waalhaven-Eemhaven é de: 147.00$\n",
      "O preço médio em Kralingen-Crooswijk é de: 149.46$\n",
      "O preço médio em Delfshaven é de: 149.69$\n",
      "O preço médio em Hillegersberg-Schiebroek é de: 162.13$\n",
      "O preço médio em Rotterdam Centrum é de: 174.80$\n",
      "O preço médio em Feijenoord é de: 176.01$\n",
      "O preço médio em Rozenburg é de: 199.00$\n",
      "O preço médio em Hoogvliet é de: 816.67$\n"
     ]
    }
   ],
   "source": [
    "#Criar um DF agroupado por bairros com a media do Preço, é ordenado em ordem crescente (mais pequeno mais alto)\n",
    "bairros_df = listings_df.groupby('neighbourhood_group')['price'].mean()\n",
    "bairros_df=bairros_df.sort_values(ascending=True)\n",
    "\n",
    "#Automatização de quantidade de cidades para mostrar\n",
    "lista_top=5\n",
    "\n",
    "print(f\"top 5 dos preços mais baixos:\")\n",
    "for bairro, preço in bairros_df.head(lista_top).items():\n",
    "    print(f\"\\t{bairro} : {preço:.2f}$\")\n",
    "\n",
    "\n",
    "print(f\"\\ntop 5 dos preços mais altos:\")\n",
    "for bairro, preço in bairros_df[-1:-(lista_top+1):-1].items():\n",
    "    print(f\"\\t{bairro} : {preço:.2f}$\")\n",
    "\n",
    "\n",
    "print(\"\\n\\n\")\n",
    "\n",
    "#preço medio de cada bairro ordenado\n",
    "for bairro, preço in bairros_df.items():\n",
    "    print(f\"O preço médio em {bairro} é de: {preço:.2f}$\")\n",
    "\n",
    "    \n",
    "\n"
   ]
  },
  {
   "cell_type": "markdown",
   "metadata": {},
   "source": [
    "Room-type - Quais são os tipos de propriedades mais comuns"
   ]
  },
  {
   "cell_type": "code",
   "execution_count": 6,
   "metadata": {},
   "outputs": [
    {
     "data": {
      "image/png": "[encoded data removed]",
      "text/plain": [
       "<Figure size 640x480 with 1 Axes>"
      ]
     },
     "metadata": {},
     "output_type": "display_data"
    }
   ],
   "source": [
    "room_type=listings_df['room_type'].value_counts()\n",
    "room_type\n",
    "\n",
    "# Criando o gráfico de barras empilhadas\n",
    "room_type.plot(kind='bar')\n",
    "plt.xlabel('')\n",
    "plt.ylabel('Quantidade ')\n",
    "plt.title('Quantidade/tipos airbnb - Rotterdam')\n",
    "plt.xticks(rotation=0)  # Para manter os rótulos das categorias na horizontal\n",
    "plt.show()\n"
   ]
  }
 ],
 "metadata": {
  "kernelspec": {
   "display_name": "Python 3",
   "language": "python",
   "name": "python3"
  },
  "language_info": {
   "codemirror_mode": {
    "name": "ipython",
    "version": 3
   },
   "file_extension": ".py",
   "mimetype": "text/x-python",
   "name": "python",
   "nbconvert_exporter": "python",
   "pygments_lexer": "ipython3",
   "version": "3.9.10"
  }
 },
 "nbformat": 4,
 "nbformat_minor": 2
}
